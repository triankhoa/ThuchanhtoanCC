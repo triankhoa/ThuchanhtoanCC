{
  "nbformat": 4,
  "nbformat_minor": 0,
  "metadata": {
    "colab": {
      "name": "Untitled10.ipynb",
      "provenance": [],
      "authorship_tag": "ABX9TyNyQo7IiRbHuE5pm4Li7cOt",
      "include_colab_link": true
    },
    "kernelspec": {
      "name": "python3",
      "display_name": "Python 3"
    },
    "language_info": {
      "name": "python"
    }
  },
  "cells": [
    {
      "cell_type": "markdown",
      "metadata": {
        "id": "view-in-github",
        "colab_type": "text"
      },
      "source": [
        "<a href=\"https://colab.research.google.com/github/triankhoa/ThuchanhtoanCC/blob/main/ontap.ipynb\" target=\"_parent\"><img src=\"https://colab.research.google.com/assets/colab-badge.svg\" alt=\"Open In Colab\"/></a>"
      ]
    },
    {
      "cell_type": "code",
      "execution_count": 49,
      "metadata": {
        "colab": {
          "base_uri": "https://localhost:8080/"
        },
        "id": "vN_ZixLhkDdT",
        "outputId": "d7b4540d-3f83-44a6-b04c-d195b97e1b00"
      },
      "outputs": [
        {
          "output_type": "stream",
          "name": "stdout",
          "text": [
            "3791862310265926082868235028027893277370233152247388584761734150717768254410341175325352026\n"
          ]
        }
      ],
      "source": [
        "sum = 0\n",
        "for i in range(0, 10):\n",
        "  sum = (sum)**2+1\n",
        "print(sum)\n",
        "\n"
      ]
    },
    {
      "cell_type": "code",
      "source": [
        "sum2 = 0\n",
        "for i in range(0, 10):\n",
        "  sum2 = (sum2)**2-1\n",
        "  print(sum2)"
      ],
      "metadata": {
        "colab": {
          "base_uri": "https://localhost:8080/"
        },
        "id": "trKzOYW4oBdW",
        "outputId": "38c12e1f-42c8-4c98-976a-371a53dab315"
      },
      "execution_count": 50,
      "outputs": [
        {
          "output_type": "stream",
          "name": "stdout",
          "text": [
            "-1\n",
            "0\n",
            "-1\n",
            "0\n",
            "-1\n",
            "0\n",
            "-1\n",
            "0\n",
            "-1\n",
            "0\n"
          ]
        }
      ]
    },
    {
      "cell_type": "code",
      "source": [
        "sum3 = 0\n",
        "for i in range(9996, 10001):\n",
        "  sum3 = (sum3)**2-0.5\n",
        "  print(i, sum3)"
      ],
      "metadata": {
        "colab": {
          "base_uri": "https://localhost:8080/"
        },
        "id": "wF91y4NptVTI",
        "outputId": "0536dbda-c9dc-46c2-9109-7c72a7e0b183"
      },
      "execution_count": 51,
      "outputs": [
        {
          "output_type": "stream",
          "name": "stdout",
          "text": [
            "9996 -0.5\n",
            "9997 -0.25\n",
            "9998 -0.4375\n",
            "9999 -0.30859375\n",
            "10000 -0.4047698974609375\n"
          ]
        }
      ]
    }
  ]
}