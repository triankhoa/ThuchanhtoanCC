{
  "nbformat": 4,
  "nbformat_minor": 0,
  "metadata": {
    "colab": {
      "name": "Untitled5.ipynb",
      "provenance": [],
      "authorship_tag": "ABX9TyNtg8Y1rNWmpDeLky0643Fz",
      "include_colab_link": true
    },
    "kernelspec": {
      "name": "python3",
      "display_name": "Python 3"
    },
    "language_info": {
      "name": "python"
    }
  },
  "cells": [
    {
      "cell_type": "markdown",
      "metadata": {
        "id": "view-in-github",
        "colab_type": "text"
      },
      "source": [
        "<a href=\"https://colab.research.google.com/github/triankhoa/ThuchanhtoanCC/blob/main/Ch%C6%B0%C6%A1ng6.ipynb\" target=\"_parent\"><img src=\"https://colab.research.google.com/assets/colab-badge.svg\" alt=\"Open In Colab\"/></a>"
      ]
    },
    {
      "cell_type": "code",
      "execution_count": null,
      "metadata": {
        "id": "reYtOIdefFqn"
      },
      "outputs": [],
      "source": [
        "thực hành 1:"
      ]
    },
    {
      "cell_type": "code",
      "source": [
        "import math\n",
        "def giaithua(n):\n",
        "  if(n==1):\n",
        "    return 1\n",
        "  else:\n",
        "    return n*giaithua(n-1)\n"
      ],
      "metadata": {
        "id": "EuIxhDzwfeiT"
      },
      "execution_count": 4,
      "outputs": []
    },
    {
      "cell_type": "code",
      "source": [
        "giaithua(3)\n"
      ],
      "metadata": {
        "colab": {
          "base_uri": "https://localhost:8080/"
        },
        "id": "FZLv0jysgAOV",
        "outputId": "d8de544e-6cb2-4662-e587-8116866108eb"
      },
      "execution_count": 5,
      "outputs": [
        {
          "output_type": "execute_result",
          "data": {
            "text/plain": [
              "6"
            ]
          },
          "metadata": {},
          "execution_count": 5
        }
      ]
    },
    {
      "cell_type": "code",
      "source": [
        "giaithua(4)"
      ],
      "metadata": {
        "colab": {
          "base_uri": "https://localhost:8080/"
        },
        "id": "7qcKf258gLIA",
        "outputId": "7a5dd4ff-4c19-4ea2-db8b-2a3d7f727c02"
      },
      "execution_count": 9,
      "outputs": [
        {
          "output_type": "execute_result",
          "data": {
            "text/plain": [
              "24"
            ]
          },
          "metadata": {},
          "execution_count": 9
        }
      ]
    },
    {
      "cell_type": "markdown",
      "source": [
        "Thực hành 2:\n"
      ],
      "metadata": {
        "id": "PlzI6QPbhUwx"
      }
    },
    {
      "cell_type": "code",
      "source": [
        "def fibo(n):\n",
        "  if(n==0):\n",
        "    return 0 \n",
        "  if(n==1):\n",
        "    return 1\n",
        "  return fibo(n-1)+fibo(n-2)\n",
        "  "
      ],
      "metadata": {
        "id": "hyYbv0PWhXb_"
      },
      "execution_count": 13,
      "outputs": []
    },
    {
      "cell_type": "code",
      "source": [
        "fibo(4)"
      ],
      "metadata": {
        "colab": {
          "base_uri": "https://localhost:8080/"
        },
        "id": "Qc6AdoGFhwOd",
        "outputId": "5a4c9241-41ff-4bda-871d-e30626bfce0f"
      },
      "execution_count": 14,
      "outputs": [
        {
          "output_type": "execute_result",
          "data": {
            "text/plain": [
              "3"
            ]
          },
          "metadata": {},
          "execution_count": 14
        }
      ]
    },
    {
      "cell_type": "code",
      "source": [
        "fibo(5)"
      ],
      "metadata": {
        "colab": {
          "base_uri": "https://localhost:8080/"
        },
        "id": "xkadt1TiiJ0V",
        "outputId": "85eaa608-de32-4c43-e195-805c7dbf60f5"
      },
      "execution_count": 15,
      "outputs": [
        {
          "output_type": "execute_result",
          "data": {
            "text/plain": [
              "5"
            ]
          },
          "metadata": {},
          "execution_count": 15
        }
      ]
    },
    {
      "cell_type": "code",
      "source": [
        "fibo(6)"
      ],
      "metadata": {
        "colab": {
          "base_uri": "https://localhost:8080/"
        },
        "id": "ur78sbogiTp3",
        "outputId": "92743876-5b7f-45cb-d7c0-0eb73120c538"
      },
      "execution_count": 16,
      "outputs": [
        {
          "output_type": "execute_result",
          "data": {
            "text/plain": [
              "8"
            ]
          },
          "metadata": {},
          "execution_count": 16
        }
      ]
    },
    {
      "cell_type": "markdown",
      "source": [
        "Thực hành 3:"
      ],
      "metadata": {
        "id": "w-_XpaIci4LT"
      }
    },
    {
      "cell_type": "code",
      "source": [
        "def an_exp_an(n):\n",
        "  if(n==1):\n",
        "    return 1/2\n",
        "  else:\n",
        "    return an_exp_an(n-1)**an_exp_an(n-1)"
      ],
      "metadata": {
        "id": "0xIyFztci50r"
      },
      "execution_count": 17,
      "outputs": []
    },
    {
      "cell_type": "code",
      "source": [
        "an_exp_an(1)"
      ],
      "metadata": {
        "colab": {
          "base_uri": "https://localhost:8080/"
        },
        "id": "FriAxZSyjOn8",
        "outputId": "7728c9b8-727a-4da1-88db-c946888f4ad2"
      },
      "execution_count": 18,
      "outputs": [
        {
          "output_type": "execute_result",
          "data": {
            "text/plain": [
              "0.5"
            ]
          },
          "metadata": {},
          "execution_count": 18
        }
      ]
    },
    {
      "cell_type": "code",
      "source": [
        "an_exp_an(2)"
      ],
      "metadata": {
        "colab": {
          "base_uri": "https://localhost:8080/"
        },
        "id": "brdyiw4zjUwR",
        "outputId": "3caef120-9007-4725-8668-0e19fb9a4a71"
      },
      "execution_count": 19,
      "outputs": [
        {
          "output_type": "execute_result",
          "data": {
            "text/plain": [
              "0.7071067811865476"
            ]
          },
          "metadata": {},
          "execution_count": 19
        }
      ]
    },
    {
      "cell_type": "code",
      "source": [
        "an_exp_an(3)"
      ],
      "metadata": {
        "colab": {
          "base_uri": "https://localhost:8080/"
        },
        "id": "_dPH5jLMjiB7",
        "outputId": "d5eb7124-d12e-499a-829e-509060f84805"
      },
      "execution_count": 20,
      "outputs": [
        {
          "output_type": "execute_result",
          "data": {
            "text/plain": [
              "0.7826540273556803"
            ]
          },
          "metadata": {},
          "execution_count": 20
        }
      ]
    },
    {
      "cell_type": "code",
      "source": [
        "an_exp_an(4)"
      ],
      "metadata": {
        "colab": {
          "base_uri": "https://localhost:8080/"
        },
        "id": "kPCaAQuijlaZ",
        "outputId": "d86ba8d5-61af-4dab-c243-4ca5ac3f19ef"
      },
      "execution_count": 21,
      "outputs": [
        {
          "output_type": "execute_result",
          "data": {
            "text/plain": [
              "0.8254713306050621"
            ]
          },
          "metadata": {},
          "execution_count": 21
        }
      ]
    },
    {
      "cell_type": "code",
      "source": [
        "an_exp_an(5)"
      ],
      "metadata": {
        "colab": {
          "base_uri": "https://localhost:8080/"
        },
        "id": "APfqavd-jofh",
        "outputId": "dadb864a-a0b1-4436-db76-dc4e0666aa61"
      },
      "execution_count": 22,
      "outputs": [
        {
          "output_type": "execute_result",
          "data": {
            "text/plain": [
              "0.8535714578150946"
            ]
          },
          "metadata": {},
          "execution_count": 22
        }
      ]
    },
    {
      "cell_type": "markdown",
      "source": [
        "Thực hành 4:"
      ],
      "metadata": {
        "id": "3CzYJ2Luj8m5"
      }
    },
    {
      "cell_type": "code",
      "source": [
        "def bai4(n):\n",
        "  if(n==1):\n",
        "    return 4\n",
        "  else:\n",
        "    return 5/(6)"
      ],
      "metadata": {
        "id": "sRNMNfv0j-Ox"
      },
      "execution_count": 24,
      "outputs": []
    },
    {
      "cell_type": "code",
      "source": [
        "bai4(5)"
      ],
      "metadata": {
        "colab": {
          "base_uri": "https://localhost:8080/"
        },
        "id": "dsyOK54elDPg",
        "outputId": "3e31a1cf-fee1-4d5e-eba4-bdb791129938"
      },
      "execution_count": 25,
      "outputs": [
        {
          "output_type": "execute_result",
          "data": {
            "text/plain": [
              "0.8333333333333334"
            ]
          },
          "metadata": {},
          "execution_count": 25
        }
      ]
    },
    {
      "cell_type": "code",
      "source": [
        "bai4(6)"
      ],
      "metadata": {
        "colab": {
          "base_uri": "https://localhost:8080/"
        },
        "id": "5NeI6VirlKap",
        "outputId": "2a4d0661-d314-4cb3-fc2c-ed2d56246a2b"
      },
      "execution_count": 26,
      "outputs": [
        {
          "output_type": "execute_result",
          "data": {
            "text/plain": [
              "0.8333333333333334"
            ]
          },
          "metadata": {},
          "execution_count": 26
        }
      ]
    },
    {
      "cell_type": "markdown",
      "source": [
        "Thực hành 5:"
      ],
      "metadata": {
        "id": "zVURAEIVlmpm"
      }
    },
    {
      "cell_type": "code",
      "source": [
        "def tisoFibo(n):\n",
        "  if(n==1):\n",
        "    return 1\n",
        "  else:\n",
        "    return 1+1/tisoFibo(n-1)\n",
        "\n",
        "for i in range(1,11):\n",
        "  print(i, tisoFibo(i))"
      ],
      "metadata": {
        "colab": {
          "base_uri": "https://localhost:8080/"
        },
        "id": "JbmpNEr_lo5W",
        "outputId": "e8f0f5fe-b0cd-4374-cfe2-c92f0afbce06"
      },
      "execution_count": 27,
      "outputs": [
        {
          "output_type": "stream",
          "name": "stdout",
          "text": [
            "1 1\n",
            "2 2.0\n",
            "3 1.5\n",
            "4 1.6666666666666665\n",
            "5 1.6\n",
            "6 1.625\n",
            "7 1.6153846153846154\n",
            "8 1.619047619047619\n",
            "9 1.6176470588235294\n",
            "10 1.6181818181818182\n"
          ]
        }
      ]
    },
    {
      "cell_type": "code",
      "source": [
        "from sympy import Derivative, Symbol, sympify\n",
        "def grad_ascent(x0,ham_flx,x):\n",
        "  epsilon = 1e-6\n",
        "  step_size = 1e-4\n",
        "  x_old = x0\n",
        "  x_new = x_old + step_size*ham_flx.subs({x:x_old}).evalf()\n",
        "  while abs(x_old - x_new)>epsilon:\n",
        "    x_old = x_new\n",
        "    x_new = x_old + step_size*ham_flx.subs({x:x_old}).evalf()\n",
        "  return x_new"
      ],
      "metadata": {
        "id": "84R0A30DnWXQ"
      },
      "execution_count": 43,
      "outputs": []
    },
    {
      "cell_type": "code",
      "source": [
        "if __name__ == '__main__':\n",
        "  f = input('Nhap ham 1 bien (f): ')\n",
        "  var = input('Nhap ten bien tuong ung(x): ')\n",
        "  var0 = float(input('Nhap gia tri khoi dau cho bien x: '))\n",
        "  "
      ],
      "metadata": {
        "colab": {
          "base_uri": "https://localhost:8080/"
        },
        "id": "Akh93eDAoepj",
        "outputId": "f920118a-4d7f-40fb-dee7-851b796a58d9"
      },
      "execution_count": 31,
      "outputs": [
        {
          "name": "stdout",
          "output_type": "stream",
          "text": [
            "Nhap ham 1 bien (f): 25*25*sin(2*theta)/9.8\n",
            "Nhap ten bien tuong ung(x): theta\n",
            "Nhap gia tri khoi dau cho bien x: 0.001\n"
          ]
        }
      ]
    },
    {
      "cell_type": "code",
      "source": [
        "try:\n",
        "  f = sympify(f)\n",
        "except SympifiError:\n",
        "  print('Ham nhap khong hop le')\n",
        "else:\n",
        "  var = Symbol(var)\n",
        "  d = Derivative(f,var).doit()\n",
        "  var_max = grad_ascent(var0,d,var)\n",
        "  print('{0}:{1}'.format(var.name, var_max))\n",
        "  print('Maximum value: {0}'.format(f.subs({var:var_max})))\n"
      ],
      "metadata": {
        "colab": {
          "base_uri": "https://localhost:8080/"
        },
        "id": "6nCr6RMSoerL",
        "outputId": "98030112-fd1a-4278-bf32-422945707494"
      },
      "execution_count": 32,
      "outputs": [
        {
          "output_type": "stream",
          "name": "stdout",
          "text": [
            "theta:0.785360029379083\n",
            "Maximum value: 63.7755100185965\n"
          ]
        }
      ]
    },
    {
      "cell_type": "code",
      "source": [
        "from sympy import Derivative, Symbol, sympify\n",
        "def grad_ascent(x0,ham_flx,x):\n",
        "  from sympy import solve, E\n",
        "  if not solve(ham_flx):\n",
        "    print('Khong the tiep tuc, phuong trinh {0}=0 vo nghiem'.format(ham_flx))\n",
        "    return\n",
        "  epsilon = 1e-6\n",
        "  step_size = 1e-4\n",
        "  x_old = x0\n",
        "  x_new = x_old + step_size*ham_flx.subs({x:x_old}).evalf()\n",
        "  while abs(x_old - x_new)>epsilon:\n",
        "    x_old = x_new\n",
        "    x_new = x_old + step_size*ham_flx.subs({x:x_old}).evalf()\n",
        "  return x_new\n"
      ],
      "metadata": {
        "id": "NfPJl9J4rrvq"
      },
      "execution_count": 46,
      "outputs": []
    },
    {
      "cell_type": "code",
      "source": [
        "if __name__ == '__main__':\n",
        "  f = input('Nhap ham 1 bien (f): ')\n",
        "  var = input('Nhap ten bien tuong ung(x): ')\n",
        "  var0 = float(input('Nhap gia tri khoi dau cho bien x: '))\n",
        "  "
      ],
      "metadata": {
        "colab": {
          "base_uri": "https://localhost:8080/"
        },
        "outputId": "2cba720f-c2fc-491a-9f44-64d258ae4fb6",
        "id": "7EJdCIKWsx4K"
      },
      "execution_count": 47,
      "outputs": [
        {
          "name": "stdout",
          "output_type": "stream",
          "text": [
            "Nhap ham 1 bien (f): log(x)\n",
            "Nhap ten bien tuong ung(x): x\n",
            "Nhap gia tri khoi dau cho bien x: 0.1\n"
          ]
        }
      ]
    },
    {
      "cell_type": "code",
      "source": [
        "try:\n",
        "  f = sympify(f)\n",
        "except SympifiError:\n",
        "  print('Ham nhap khong hop le')\n",
        "else:\n",
        "  var = Symbol(var)\n",
        "  d = Derivative(f,var).doit()\n",
        "  var_max = grad_ascent(var0,d,var)\n",
        "  print('{0}:{1}'.format(var.name, var_max))\n",
        "  print('Maximum value: {0}'.format(f.subs({var:var_max})))\n"
      ],
      "metadata": {
        "colab": {
          "base_uri": "https://localhost:8080/"
        },
        "outputId": "d2c3fa59-2e02-473f-af59-3c007f78dcdc",
        "id": "KDApLb01s2Jd"
      },
      "execution_count": 48,
      "outputs": [
        {
          "output_type": "stream",
          "name": "stdout",
          "text": [
            "Khong the tiep tuc, phuong trinh 1/x=0 vo nghiem\n",
            "x:None\n",
            "Maximum value: log(x)\n"
          ]
        }
      ]
    },
    {
      "cell_type": "markdown",
      "source": [
        "Bài tập 1:"
      ],
      "metadata": {
        "id": "Te5fz7TcH-r-"
      }
    },
    {
      "cell_type": "code",
      "source": [
        "def bai1(n):\n",
        "  if(n == 1):\n",
        "    return 4\n",
        "  else:\n",
        "    return 1/2*((n-1)+8)\n",
        "\n"
      ],
      "metadata": {
        "id": "lqKScWYFJ286"
      },
      "execution_count": 7,
      "outputs": []
    },
    {
      "cell_type": "code",
      "source": [
        "for i in range(1,50):\n",
        "  print(i,bai1(i))"
      ],
      "metadata": {
        "colab": {
          "base_uri": "https://localhost:8080/"
        },
        "id": "omYLRKCWLDG4",
        "outputId": "57a5a0ab-c043-4a91-8bb3-0915e5da89ee"
      },
      "execution_count": 8,
      "outputs": [
        {
          "output_type": "stream",
          "name": "stdout",
          "text": [
            "1 4\n",
            "2 4.5\n",
            "3 5.0\n",
            "4 5.5\n",
            "5 6.0\n",
            "6 6.5\n",
            "7 7.0\n",
            "8 7.5\n",
            "9 8.0\n",
            "10 8.5\n",
            "11 9.0\n",
            "12 9.5\n",
            "13 10.0\n",
            "14 10.5\n",
            "15 11.0\n",
            "16 11.5\n",
            "17 12.0\n",
            "18 12.5\n",
            "19 13.0\n",
            "20 13.5\n",
            "21 14.0\n",
            "22 14.5\n",
            "23 15.0\n",
            "24 15.5\n",
            "25 16.0\n",
            "26 16.5\n",
            "27 17.0\n",
            "28 17.5\n",
            "29 18.0\n",
            "30 18.5\n",
            "31 19.0\n",
            "32 19.5\n",
            "33 20.0\n",
            "34 20.5\n",
            "35 21.0\n",
            "36 21.5\n",
            "37 22.0\n",
            "38 22.5\n",
            "39 23.0\n",
            "40 23.5\n",
            "41 24.0\n",
            "42 24.5\n",
            "43 25.0\n",
            "44 25.5\n",
            "45 26.0\n",
            "46 26.5\n",
            "47 27.0\n",
            "48 27.5\n",
            "49 28.0\n"
          ]
        }
      ]
    },
    {
      "cell_type": "code",
      "source": [
        "def bai2(n):\n",
        "  if(n == 1):\n",
        "    return 5\n",
        "  else:\n",
        "    return 2-1/(2+(n-1))\n",
        "\n"
      ],
      "metadata": {
        "id": "hx0Gm9oDNLG_"
      },
      "execution_count": 10,
      "outputs": []
    },
    {
      "cell_type": "code",
      "source": [
        "for i in range(1,50):\n",
        "  print(i,bai2(i))"
      ],
      "metadata": {
        "colab": {
          "base_uri": "https://localhost:8080/"
        },
        "outputId": "df845df5-5c56-4dae-a2bf-e5b9241bef99",
        "id": "x3lTqv6fNaMy"
      },
      "execution_count": 12,
      "outputs": [
        {
          "output_type": "stream",
          "name": "stdout",
          "text": [
            "1 5\n",
            "2 1.6666666666666667\n",
            "3 1.75\n",
            "4 1.8\n",
            "5 1.8333333333333333\n",
            "6 1.8571428571428572\n",
            "7 1.875\n",
            "8 1.8888888888888888\n",
            "9 1.9\n",
            "10 1.9090909090909092\n",
            "11 1.9166666666666667\n",
            "12 1.9230769230769231\n",
            "13 1.9285714285714286\n",
            "14 1.9333333333333333\n",
            "15 1.9375\n",
            "16 1.9411764705882353\n",
            "17 1.9444444444444444\n",
            "18 1.9473684210526316\n",
            "19 1.95\n",
            "20 1.9523809523809523\n",
            "21 1.9545454545454546\n",
            "22 1.9565217391304348\n",
            "23 1.9583333333333333\n",
            "24 1.96\n",
            "25 1.9615384615384615\n",
            "26 1.962962962962963\n",
            "27 1.9642857142857142\n",
            "28 1.9655172413793103\n",
            "29 1.9666666666666666\n",
            "30 1.967741935483871\n",
            "31 1.96875\n",
            "32 1.9696969696969697\n",
            "33 1.9705882352941178\n",
            "34 1.9714285714285715\n",
            "35 1.9722222222222223\n",
            "36 1.972972972972973\n",
            "37 1.9736842105263157\n",
            "38 1.9743589743589745\n",
            "39 1.975\n",
            "40 1.975609756097561\n",
            "41 1.9761904761904763\n",
            "42 1.9767441860465116\n",
            "43 1.9772727272727273\n",
            "44 1.9777777777777779\n",
            "45 1.9782608695652173\n",
            "46 1.9787234042553192\n",
            "47 1.9791666666666667\n",
            "48 1.9795918367346939\n",
            "49 1.98\n"
          ]
        }
      ]
    },
    {
      "cell_type": "code",
      "source": [
        "def bai3(n):\n",
        "  if(n == 1):\n",
        "    return 3*3.14/2\n",
        "  else:\n",
        "    return sin(n-1)/(e**(n-1))\n",
        "\n"
      ],
      "metadata": {
        "id": "q_G54uOhNhFH"
      },
      "execution_count": 15,
      "outputs": []
    },
    {
      "cell_type": "code",
      "source": [
        "for i in range(1,50):\n",
        "  print(i,bai3(i))"
      ],
      "metadata": {
        "colab": {
          "base_uri": "https://localhost:8080/",
          "height": 304
        },
        "outputId": "c33bdf9a-0f54-451b-cd36-25def32a58dc",
        "id": "fclakvEyOJYO"
      },
      "execution_count": 17,
      "outputs": [
        {
          "output_type": "stream",
          "name": "stdout",
          "text": [
            "1 4.71\n"
          ]
        },
        {
          "output_type": "error",
          "ename": "NameError",
          "evalue": "ignored",
          "traceback": [
            "\u001b[0;31m---------------------------------------------------------------------------\u001b[0m",
            "\u001b[0;31mNameError\u001b[0m                                 Traceback (most recent call last)",
            "\u001b[0;32m<ipython-input-17-de27a34bbb86>\u001b[0m in \u001b[0;36m<module>\u001b[0;34m()\u001b[0m\n\u001b[1;32m      1\u001b[0m \u001b[0;32mfor\u001b[0m \u001b[0mi\u001b[0m \u001b[0;32min\u001b[0m \u001b[0mrange\u001b[0m\u001b[0;34m(\u001b[0m\u001b[0;36m1\u001b[0m\u001b[0;34m,\u001b[0m\u001b[0;36m50\u001b[0m\u001b[0;34m)\u001b[0m\u001b[0;34m:\u001b[0m\u001b[0;34m\u001b[0m\u001b[0;34m\u001b[0m\u001b[0m\n\u001b[0;32m----> 2\u001b[0;31m   \u001b[0mprint\u001b[0m\u001b[0;34m(\u001b[0m\u001b[0mi\u001b[0m\u001b[0;34m,\u001b[0m\u001b[0mbai3\u001b[0m\u001b[0;34m(\u001b[0m\u001b[0mi\u001b[0m\u001b[0;34m)\u001b[0m\u001b[0;34m)\u001b[0m\u001b[0;34m\u001b[0m\u001b[0;34m\u001b[0m\u001b[0m\n\u001b[0m",
            "\u001b[0;32m<ipython-input-15-023dd32ee5a4>\u001b[0m in \u001b[0;36mbai3\u001b[0;34m(n)\u001b[0m\n\u001b[1;32m      3\u001b[0m     \u001b[0;32mreturn\u001b[0m \u001b[0;36m3\u001b[0m\u001b[0;34m*\u001b[0m\u001b[0;36m3.14\u001b[0m\u001b[0;34m/\u001b[0m\u001b[0;36m2\u001b[0m\u001b[0;34m\u001b[0m\u001b[0;34m\u001b[0m\u001b[0m\n\u001b[1;32m      4\u001b[0m   \u001b[0;32melse\u001b[0m\u001b[0;34m:\u001b[0m\u001b[0;34m\u001b[0m\u001b[0;34m\u001b[0m\u001b[0m\n\u001b[0;32m----> 5\u001b[0;31m     \u001b[0;32mreturn\u001b[0m \u001b[0msin\u001b[0m\u001b[0;34m(\u001b[0m\u001b[0mn\u001b[0m\u001b[0;34m-\u001b[0m\u001b[0;36m1\u001b[0m\u001b[0;34m)\u001b[0m\u001b[0;34m/\u001b[0m\u001b[0;34m(\u001b[0m\u001b[0me\u001b[0m\u001b[0;34m**\u001b[0m\u001b[0;34m(\u001b[0m\u001b[0mn\u001b[0m\u001b[0;34m-\u001b[0m\u001b[0;36m1\u001b[0m\u001b[0;34m)\u001b[0m\u001b[0;34m)\u001b[0m\u001b[0;34m\u001b[0m\u001b[0;34m\u001b[0m\u001b[0m\n\u001b[0m\u001b[1;32m      6\u001b[0m \u001b[0;34m\u001b[0m\u001b[0m\n",
            "\u001b[0;31mNameError\u001b[0m: name 'sin' is not defined"
          ]
        }
      ]
    }
  ]
}