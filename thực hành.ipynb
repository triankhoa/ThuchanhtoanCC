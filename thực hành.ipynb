{
  "nbformat": 4,
  "nbformat_minor": 0,
  "metadata": {
    "colab": {
      "name": "Untitled0.ipynb",
      "provenance": [],
      "authorship_tag": "ABX9TyM0QacEOP4Yh9wQdYLeBky8",
      "include_colab_link": true
    },
    "kernelspec": {
      "name": "python3",
      "display_name": "Python 3"
    },
    "language_info": {
      "name": "python"
    }
  },
  "cells": [
    {
      "cell_type": "markdown",
      "metadata": {
        "id": "view-in-github",
        "colab_type": "text"
      },
      "source": [
        "<a href=\"https://colab.research.google.com/github/triankhoa/ThuchanhtoanCC/blob/main/th%E1%BB%B1c%20h%C3%A0nh.ipynb\" target=\"_parent\"><img src=\"https://colab.research.google.com/assets/colab-badge.svg\" alt=\"Open In Colab\"/></a>"
      ]
    },
    {
      "cell_type": "code",
      "source": [
        ""
      ],
      "metadata": {
        "id": "p3vmX28N1sI2"
      },
      "execution_count": null,
      "outputs": []
    },
    {
      "cell_type": "markdown",
      "source": [
        "Thực hành bài 1:\n"
      ],
      "metadata": {
        "id": "lMHXIc_68VcJ"
      }
    },
    {
      "cell_type": "code",
      "source": [
        "n = 10000\n",
        "dayS = [1/2**k for k in range(0, n)]\n",
        "tong = sum(dayS)\n",
        "print(tong)\n"
      ],
      "metadata": {
        "colab": {
          "base_uri": "https://localhost:8080/"
        },
        "id": "CKTmtEGxJHTI",
        "outputId": "c9fe3130-f1a8-4375-8ccd-1a5fdb8846b8"
      },
      "execution_count": 10,
      "outputs": [
        {
          "output_type": "stream",
          "name": "stdout",
          "text": [
            "2.0\n"
          ]
        }
      ]
    },
    {
      "cell_type": "markdown",
      "source": [
        "Thực hành bài 2:"
      ],
      "metadata": {
        "id": "vvSatH6bMbnr"
      }
    },
    {
      "cell_type": "code",
      "source": [
        "n = 10000\n",
        "x = [(2-0)*k/n for k in range(0, n+1)]\n",
        "s = 0\n",
        "for k in range (1, n+1):\n",
        "  s = s + x[k]**2 * (x[k] - x[k-1])\n",
        "print(s)"
      ],
      "metadata": {
        "colab": {
          "base_uri": "https://localhost:8080/"
        },
        "id": "2DjBi7ilMedi",
        "outputId": "43a8fec0-a853-4fee-ad87-fd1086a02e10"
      },
      "execution_count": 1,
      "outputs": [
        {
          "output_type": "stream",
          "name": "stdout",
          "text": [
            "2.667066679999994\n"
          ]
        }
      ]
    },
    {
      "cell_type": "markdown",
      "source": [
        "Thực hành bài 5a:\n"
      ],
      "metadata": {
        "id": "PWRxD87sqmpU"
      }
    },
    {
      "cell_type": "code",
      "source": [
        "from sympy.solvers.solvers import denoms\n",
        "from sympy import *\n",
        "x = Symbol('x')\n",
        "pt = (1/x)*1/(x-3)\n",
        "dd = denoms(pt)\n",
        "print(dd)"
      ],
      "metadata": {
        "colab": {
          "base_uri": "https://localhost:8080/"
        },
        "id": "vmA3Uja9qlCd",
        "outputId": "1700ad0c-468c-4ea6-fb52-d967febf1528"
      },
      "execution_count": 5,
      "outputs": [
        {
          "output_type": "stream",
          "name": "stdout",
          "text": [
            "{x - 3, x}\n"
          ]
        }
      ]
    },
    {
      "cell_type": "markdown",
      "source": [
        "Thực hành 5b:\n"
      ],
      "metadata": {
        "id": "kcnOdiOPqlwI"
      }
    },
    {
      "cell_type": "code",
      "source": [
        "pt = (1+1/x) / (x-1)\n",
        "from sympy.solvers.solvers import denoms\n",
        "loai_tru = set()\n",
        "for i in denoms(pt):\n",
        "  for s in solve(i):\n",
        "    loai_tru.add(s)\n",
        "print(loai_tru)"
      ],
      "metadata": {
        "colab": {
          "base_uri": "https://localhost:8080/"
        },
        "id": "svFPcchztKfJ",
        "outputId": "441a54b6-22ac-4270-ee17-d8ffedac417a"
      },
      "execution_count": 6,
      "outputs": [
        {
          "output_type": "stream",
          "name": "stdout",
          "text": [
            "{0, 1}\n"
          ]
        }
      ]
    },
    {
      "cell_type": "markdown",
      "source": [
        "Thực hành 6:"
      ],
      "metadata": {
        "id": "jB_uUmzvtEN0"
      }
    },
    {
      "cell_type": "code",
      "source": [
        "x = Symbol('x', positive=true)\n",
        "if(x+3)>0:\n",
        "  print('Chắc chắn x+3 dương')\n",
        "else:\n",
        "  print('x+3 chưa chắc dương')"
      ],
      "metadata": {
        "colab": {
          "base_uri": "https://localhost:8080/"
        },
        "id": "a8py3Te0wLf9",
        "outputId": "4e2034e4-2fb7-44ed-e1bb-769de0611a49"
      },
      "execution_count": 7,
      "outputs": [
        {
          "output_type": "stream",
          "name": "stdout",
          "text": [
            "Chắc chắn x+3 dương\n"
          ]
        }
      ]
    },
    {
      "cell_type": "markdown",
      "source": [
        "Thực hành 7:"
      ],
      "metadata": {
        "id": "yo13wAEOx01Z"
      }
    },
    {
      "cell_type": "code",
      "source": [
        "import math\n",
        "math.sin(math.pi/2)"
      ],
      "metadata": {
        "colab": {
          "base_uri": "https://localhost:8080/"
        },
        "id": "bjOoSS8vx3_1",
        "outputId": "ae73e5b6-c1ff-45f4-f4e6-b159bfae215e"
      },
      "execution_count": 8,
      "outputs": [
        {
          "output_type": "execute_result",
          "data": {
            "text/plain": [
              "1.0"
            ]
          },
          "metadata": {},
          "execution_count": 8
        }
      ]
    },
    {
      "cell_type": "code",
      "source": [
        "goc_theta = Symbol(\"theta\")\n",
        "import math\n",
        "import sympy\n",
        "sympy.sin(goc_theta)+sympy.sin(goc_theta)"
      ],
      "metadata": {
        "colab": {
          "base_uri": "https://localhost:8080/",
          "height": 38
        },
        "id": "8LMtgmzayAn-",
        "outputId": "969f5f3e-160c-43a2-f352-db1526b81009"
      },
      "execution_count": 13,
      "outputs": [
        {
          "output_type": "execute_result",
          "data": {
            "text/latex": "$\\displaystyle 2 \\sin{\\left(\\theta \\right)}$",
            "text/plain": [
              "2*sin(theta)"
            ]
          },
          "metadata": {},
          "execution_count": 13
        }
      ]
    }
  ]
}