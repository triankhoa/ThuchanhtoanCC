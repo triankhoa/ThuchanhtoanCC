{
  "nbformat": 4,
  "nbformat_minor": 0,
  "metadata": {
    "colab": {
      "name": "Untitled0.ipynb",
      "provenance": [],
      "authorship_tag": "ABX9TyNXrRk4a9CYw1blQBTbPnRN",
      "include_colab_link": true
    },
    "kernelspec": {
      "name": "python3",
      "display_name": "Python 3"
    },
    "language_info": {
      "name": "python"
    }
  },
  "cells": [
    {
      "cell_type": "markdown",
      "metadata": {
        "id": "view-in-github",
        "colab_type": "text"
      },
      "source": [
        "<a href=\"https://colab.research.google.com/github/triankhoa/ThuchanhtoanCC/blob/main/b%C3%A0i%201.ipynb\" target=\"_parent\"><img src=\"https://colab.research.google.com/assets/colab-badge.svg\" alt=\"Open In Colab\"/></a>"
      ]
    },
    {
      "cell_type": "code",
      "source": [
        ""
      ],
      "metadata": {
        "id": "p3vmX28N1sI2"
      },
      "execution_count": null,
      "outputs": []
    },
    {
      "cell_type": "markdown",
      "source": [
        "Thực hành bài 1:\n"
      ],
      "metadata": {
        "id": "lMHXIc_68VcJ"
      }
    },
    {
      "cell_type": "code",
      "source": [
        "n = 10000\n",
        "dayS = [1/2**k for k in range(0, n)]\n",
        "tong = sum(dayS)\n",
        "print(tong)\n"
      ],
      "metadata": {
        "colab": {
          "base_uri": "https://localhost:8080/"
        },
        "id": "CKTmtEGxJHTI",
        "outputId": "c9fe3130-f1a8-4375-8ccd-1a5fdb8846b8"
      },
      "execution_count": 10,
      "outputs": [
        {
          "output_type": "stream",
          "name": "stdout",
          "text": [
            "2.0\n"
          ]
        }
      ]
    },
    {
      "cell_type": "markdown",
      "source": [
        "Thực hành bài 2:"
      ],
      "metadata": {
        "id": "vvSatH6bMbnr"
      }
    },
    {
      "cell_type": "code",
      "source": [
        "n = 10000\n",
        "x = [(2-0)*k/n for k in range(0, n+1)]\n",
        "s = 0\n",
        "for k in range (1, n+1):\n",
        "  s = s + x[k]**2 * (x[k] - x[k-1])\n",
        "print(s)"
      ],
      "metadata": {
        "colab": {
          "base_uri": "https://localhost:8080/"
        },
        "id": "2DjBi7ilMedi",
        "outputId": "43a8fec0-a853-4fee-ad87-fd1086a02e10"
      },
      "execution_count": 1,
      "outputs": [
        {
          "output_type": "stream",
          "name": "stdout",
          "text": [
            "2.667066679999994\n"
          ]
        }
      ]
    }
  ]
}