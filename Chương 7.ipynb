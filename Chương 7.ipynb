{
  "nbformat": 4,
  "nbformat_minor": 0,
  "metadata": {
    "colab": {
      "name": "Untitled6.ipynb",
      "provenance": [],
      "collapsed_sections": [],
      "authorship_tag": "ABX9TyO5/k9wq0//LCE6BR1Qo5CF",
      "include_colab_link": true
    },
    "kernelspec": {
      "name": "python3",
      "display_name": "Python 3"
    },
    "language_info": {
      "name": "python"
    }
  },
  "cells": [
    {
      "cell_type": "markdown",
      "metadata": {
        "id": "view-in-github",
        "colab_type": "text"
      },
      "source": [
        "<a href=\"https://colab.research.google.com/github/triankhoa/ThuchanhtoanCC/blob/main/Ch%C6%B0%C6%A1ng%207.ipynb\" target=\"_parent\"><img src=\"https://colab.research.google.com/assets/colab-badge.svg\" alt=\"Open In Colab\"/></a>"
      ]
    },
    {
      "cell_type": "code",
      "execution_count": null,
      "metadata": {
        "id": "csmFC1_4NQVe"
      },
      "outputs": [],
      "source": [
        "Thực hành 1:"
      ]
    },
    {
      "cell_type": "code",
      "source": [
        "from sympy import Symbol, Integral\n",
        "x = Symbol('x')\n",
        "f = 1/x\n",
        "unbound1 = Integral(f,(x,0,2))\n",
        "unbound1.doit()"
      ],
      "metadata": {
        "colab": {
          "base_uri": "https://localhost:8080/",
          "height": 37
        },
        "id": "XJW0XiUBOKFu",
        "outputId": "f10083c5-4d1f-48b1-d84e-9d93ece24050"
      },
      "execution_count": null,
      "outputs": [
        {
          "output_type": "execute_result",
          "data": {
            "text/plain": [
              "oo"
            ],
            "text/latex": "$\\displaystyle \\infty$"
          },
          "metadata": {},
          "execution_count": 1
        }
      ]
    },
    {
      "cell_type": "markdown",
      "source": [
        "Thực hành 2:"
      ],
      "metadata": {
        "id": "p0FAEJvMOyoc"
      }
    },
    {
      "cell_type": "code",
      "source": [
        "from sympy import Symbol, Integral\n",
        "x = Symbol('x')\n",
        "f = 1/x**2\n",
        "unbound2 = Integral(f,(x,-1,1))\n",
        "unbound2.doit()"
      ],
      "metadata": {
        "colab": {
          "base_uri": "https://localhost:8080/",
          "height": 37
        },
        "id": "2fdedmEbO0IF",
        "outputId": "e4a75cd8-a278-460a-c44d-f569950c05be"
      },
      "execution_count": null,
      "outputs": [
        {
          "output_type": "execute_result",
          "data": {
            "text/plain": [
              "oo"
            ],
            "text/latex": "$\\displaystyle \\infty$"
          },
          "metadata": {},
          "execution_count": 6
        }
      ]
    },
    {
      "cell_type": "markdown",
      "source": [
        "Thực hành 3:"
      ],
      "metadata": {
        "id": "KjQmfDNnPeRy"
      }
    },
    {
      "cell_type": "code",
      "source": [
        "from sympy import Symbol, Integral, Abs\n",
        "x = Symbol('x')\n",
        "f = Abs(x)\n",
        "discontinous1 = Integral(f,(x,-1,2))\n",
        "discontinous1.doit()"
      ],
      "metadata": {
        "colab": {
          "base_uri": "https://localhost:8080/",
          "height": 51
        },
        "id": "oMOjtHkuPgdg",
        "outputId": "802b2990-9d9d-433f-e6ab-d96d469708d0"
      },
      "execution_count": null,
      "outputs": [
        {
          "output_type": "execute_result",
          "data": {
            "text/plain": [
              "5/2"
            ],
            "text/latex": "$\\displaystyle \\frac{5}{2}$"
          },
          "metadata": {},
          "execution_count": 8
        }
      ]
    },
    {
      "cell_type": "markdown",
      "source": [
        "Thực hành 4:"
      ],
      "metadata": {
        "id": "347J4e0EQIq7"
      }
    },
    {
      "cell_type": "code",
      "source": [
        "from sympy import Symbol, Integral\n",
        "x = Symbol('x')\n",
        "f = x**(0.5)\n",
        "undef1 = Integral(f,(x,-1,1))\n",
        "undef1.doit()"
      ],
      "metadata": {
        "colab": {
          "base_uri": "https://localhost:8080/",
          "height": 38
        },
        "id": "nHD8m5hPQKRI",
        "outputId": "1c6efbba-1f12-4bf4-f258-bac86186c5d2"
      },
      "execution_count": null,
      "outputs": [
        {
          "output_type": "execute_result",
          "data": {
            "text/plain": [
              "0.666666666666667 + 0.666666666666667*I"
            ],
            "text/latex": "$\\displaystyle 0.666666666666667 + 0.666666666666667 i$"
          },
          "metadata": {},
          "execution_count": 10
        }
      ]
    },
    {
      "cell_type": "markdown",
      "source": [
        "Thực hành 6:"
      ],
      "metadata": {
        "id": "9XNNJReu7Epw"
      }
    },
    {
      "cell_type": "code",
      "source": [
        "from sympy import Derivative, Symbol\n",
        "x = Symbol('x')\n",
        "f = x**3/2\n",
        "th6 = Derivative(f, x).doit()\n",
        "th6**2\n"
      ],
      "metadata": {
        "colab": {
          "base_uri": "https://localhost:8080/",
          "height": 54
        },
        "id": "caz2mC2O83rm",
        "outputId": "bc8f67f8-1107-4301-8bd0-bf518758a982"
      },
      "execution_count": null,
      "outputs": [
        {
          "output_type": "execute_result",
          "data": {
            "text/plain": [
              "9*x**4/4"
            ],
            "text/latex": "$\\displaystyle \\frac{9 x^{4}}{4}$"
          },
          "metadata": {},
          "execution_count": 29
        }
      ]
    },
    {
      "cell_type": "code",
      "source": [
        "from sympy import Symbol, Integral, sqrt\n",
        "x = Symbol('x')\n",
        "f = sqrt(1+9*x**4/4)\n",
        "unbound = Integral(f,(x,0,2)).doit()\n",
        "unbound"
      ],
      "metadata": {
        "colab": {
          "base_uri": "https://localhost:8080/",
          "height": 83
        },
        "id": "4THZ_-dpCtGL",
        "outputId": "2ab663a1-e4b8-4fd1-c61b-3647d2f3039a"
      },
      "execution_count": null,
      "outputs": [
        {
          "output_type": "execute_result",
          "data": {
            "text/plain": [
              "gamma(1/4)*hyper((-1/2, 1/4), (5/4,), 36*exp_polar(I*pi))/(2*gamma(5/4))"
            ],
            "text/latex": "$\\displaystyle \\frac{\\Gamma\\left(\\frac{1}{4}\\right) {{}_{2}F_{1}\\left(\\begin{matrix} - \\frac{1}{2}, \\frac{1}{4} \\\\ \\frac{5}{4} \\end{matrix}\\middle| {36 e^{i \\pi}} \\right)}}{2 \\Gamma\\left(\\frac{5}{4}\\right)}$"
          },
          "metadata": {},
          "execution_count": 33
        }
      ]
    },
    {
      "cell_type": "markdown",
      "source": [
        "Thực hành 8:"
      ],
      "metadata": {
        "id": "CYHRjsC1IqId"
      }
    },
    {
      "cell_type": "code",
      "source": [
        "from sympy import difference_delta as dd \n",
        "from sympy.abc import n\n",
        "dd(n*(n+1),n)"
      ],
      "metadata": {
        "colab": {
          "base_uri": "https://localhost:8080/",
          "height": 38
        },
        "id": "QVpXzQa5Irmp",
        "outputId": "09d914a4-5721-4c64-cbbf-06b7a0aa1a54"
      },
      "execution_count": null,
      "outputs": [
        {
          "output_type": "execute_result",
          "data": {
            "text/plain": [
              "2*n + 2"
            ],
            "text/latex": "$\\displaystyle 2 n + 2$"
          },
          "metadata": {},
          "execution_count": 34
        }
      ]
    },
    {
      "cell_type": "code",
      "source": [
        "dd(n*(n+1),n,2)\n"
      ],
      "metadata": {
        "colab": {
          "base_uri": "https://localhost:8080/",
          "height": 38
        },
        "id": "wpwZlybOJDoX",
        "outputId": "86b68924-13eb-4d0c-ed6f-ec567f50a0a0"
      },
      "execution_count": null,
      "outputs": [
        {
          "output_type": "execute_result",
          "data": {
            "text/plain": [
              "4*n + 6"
            ],
            "text/latex": "$\\displaystyle 4 n + 6$"
          },
          "metadata": {},
          "execution_count": 35
        }
      ]
    },
    {
      "cell_type": "code",
      "source": [
        "from sympy.abc import n,k\n",
        "from sympy import limit_seq\n",
        "limit_seq((3*n**3+5*n**2+4)/(5*n**3+200*n**2+400),n)"
      ],
      "metadata": {
        "colab": {
          "base_uri": "https://localhost:8080/",
          "height": 51
        },
        "id": "8HAPbQzVJDqo",
        "outputId": "15e40811-4684-4b57-bc2e-1d981b034129"
      },
      "execution_count": null,
      "outputs": [
        {
          "output_type": "execute_result",
          "data": {
            "text/plain": [
              "3/5"
            ],
            "text/latex": "$\\displaystyle \\frac{3}{5}$"
          },
          "metadata": {},
          "execution_count": 36
        }
      ]
    },
    {
      "cell_type": "code",
      "source": [
        "from sympy import series\n",
        "from sympy import Sum\n",
        "from sympy.series.limitseq import dominant\n",
        "dominant(n**3+100*n**2+200*n+1,n)"
      ],
      "metadata": {
        "colab": {
          "base_uri": "https://localhost:8080/",
          "height": 38
        },
        "id": "WMj6cm-pKk7U",
        "outputId": "f3af3edf-ff96-4f49-e4ee-b38d3c0a5256"
      },
      "execution_count": null,
      "outputs": [
        {
          "output_type": "execute_result",
          "data": {
            "text/plain": [
              "n**3"
            ],
            "text/latex": "$\\displaystyle n^{3}$"
          },
          "metadata": {},
          "execution_count": 39
        }
      ]
    },
    {
      "cell_type": "code",
      "source": [
        "dominant(2**n + Sum(k, (k,0,n)), n) "
      ],
      "metadata": {
        "colab": {
          "base_uri": "https://localhost:8080/",
          "height": 37
        },
        "id": "Ighf9ZazLB8c",
        "outputId": "11e9b6b3-5198-4ea2-86da-638ea32da6c1"
      },
      "execution_count": null,
      "outputs": [
        {
          "output_type": "execute_result",
          "data": {
            "text/plain": [
              "2**n"
            ],
            "text/latex": "$\\displaystyle 2^{n}$"
          },
          "metadata": {},
          "execution_count": 40
        }
      ]
    },
    {
      "cell_type": "code",
      "source": [
        "dominant(n**2 + Sum(k, (k,0,n)), n)"
      ],
      "metadata": {
        "id": "dHAVrHyeLDVL"
      },
      "execution_count": null,
      "outputs": []
    },
    {
      "cell_type": "code",
      "source": [
        "dominant(2*n**2 + Sum(k, (k,0,n)), n)"
      ],
      "metadata": {
        "id": "bSwjEgd2LKQM"
      },
      "execution_count": null,
      "outputs": []
    },
    {
      "cell_type": "markdown",
      "source": [
        "Thực hành 9:"
      ],
      "metadata": {
        "id": "CwmuFZrNLUbr"
      }
    },
    {
      "cell_type": "code",
      "source": [
        "from sympy import Sum\n",
        "from sympy.abc import n,k\n",
        "S = Sum(k,(k,0,n))\n",
        "S"
      ],
      "metadata": {
        "colab": {
          "base_uri": "https://localhost:8080/",
          "height": 67
        },
        "id": "nbOJuly-LV9M",
        "outputId": "5527b091-a9ef-40f8-cf0f-cfe9ccb04872"
      },
      "execution_count": null,
      "outputs": [
        {
          "output_type": "execute_result",
          "data": {
            "text/plain": [
              "Sum(k, (k, 0, n))"
            ],
            "text/latex": "$\\displaystyle \\sum_{k=0}^{n} k$"
          },
          "metadata": {},
          "execution_count": 48
        }
      ]
    },
    {
      "cell_type": "code",
      "source": [
        "from sympy import limit_seq\n",
        "limit_seq(S,n)"
      ],
      "metadata": {
        "colab": {
          "base_uri": "https://localhost:8080/",
          "height": 37
        },
        "id": "BFfYhVOnLyUO",
        "outputId": "32b2d61f-8dfa-4ee2-d2fe-e123579bfecc"
      },
      "execution_count": null,
      "outputs": [
        {
          "output_type": "execute_result",
          "data": {
            "text/plain": [
              "oo"
            ],
            "text/latex": "$\\displaystyle \\infty$"
          },
          "metadata": {},
          "execution_count": 49
        }
      ]
    },
    {
      "cell_type": "code",
      "source": [
        "from sympy import Symbol, cos, series\n",
        "x = Symbol('x')\n",
        "S1 = series(cos(x),x)\n",
        "S1"
      ],
      "metadata": {
        "colab": {
          "base_uri": "https://localhost:8080/",
          "height": 54
        },
        "id": "RbhGqrX5L6Lq",
        "outputId": "17aed23f-f471-4d60-ad00-af9d7b479f7e"
      },
      "execution_count": null,
      "outputs": [
        {
          "output_type": "execute_result",
          "data": {
            "text/plain": [
              "1 - x**2/2 + x**4/24 + O(x**6)"
            ],
            "text/latex": "$\\displaystyle 1 - \\frac{x^{2}}{2} + \\frac{x^{4}}{24} + O\\left(x^{6}\\right)$"
          },
          "metadata": {},
          "execution_count": 50
        }
      ]
    },
    {
      "cell_type": "code",
      "source": [
        "from sympy.abc import n\n",
        "e = (1+1/n)**n\n",
        "print(round(e.subs(n,100).evalf(),10))"
      ],
      "metadata": {
        "colab": {
          "base_uri": "https://localhost:8080/"
        },
        "id": "snkdUoj2MNs8",
        "outputId": "d02390e5-63b7-4b69-ef02-e7d29f4885ff"
      },
      "execution_count": null,
      "outputs": [
        {
          "output_type": "stream",
          "name": "stdout",
          "text": [
            "2.7048138294\n"
          ]
        }
      ]
    },
    {
      "cell_type": "markdown",
      "source": [
        "Bài tập 1:"
      ],
      "metadata": {
        "id": "F8Pg6YnkMg_5"
      }
    },
    {
      "cell_type": "code",
      "source": [
        "from sympy import Derivative, Symbol\n",
        "x = Symbol('x')\n",
        "f = x**2/8\n",
        "bai1 = Derivative(f, x).doit()\n",
        "bai1\n"
      ],
      "metadata": {
        "id": "mUwzFtvmMjRw",
        "colab": {
          "base_uri": "https://localhost:8080/",
          "height": 47
        },
        "outputId": "27e42c03-5781-421b-e353-01d7bfb6704f"
      },
      "execution_count": 2,
      "outputs": [
        {
          "output_type": "execute_result",
          "data": {
            "text/plain": [
              "x/4"
            ],
            "text/latex": "$\\displaystyle \\frac{x}{4}$"
          },
          "metadata": {},
          "execution_count": 2
        }
      ]
    },
    {
      "cell_type": "code",
      "source": [
        "from sympy import Symbol, Integral, sqrt\n",
        "x = Symbol('x')\n",
        "f = sqrt(1+x/4)\n",
        "bai1a = Integral(f,(x,1,2)).doit()\n",
        "bai1a\n",
        "\n",
        "\n",
        "\n"
      ],
      "metadata": {
        "colab": {
          "base_uri": "https://localhost:8080/",
          "height": 55
        },
        "id": "t2QQSRSv3Ebl",
        "outputId": "0efdc31b-67ab-40f1-f34c-e383de75fbe5"
      },
      "execution_count": 4,
      "outputs": [
        {
          "output_type": "execute_result",
          "data": {
            "text/plain": [
              "-5*sqrt(5)/3 + 2*sqrt(6)"
            ],
            "text/latex": "$\\displaystyle - \\frac{5 \\sqrt{5}}{3} + 2 \\sqrt{6}$"
          },
          "metadata": {},
          "execution_count": 4
        }
      ]
    },
    {
      "cell_type": "code",
      "source": [
        "from sympy import Derivative, Symbol\n",
        "x = Symbol('x')\n",
        "f = (1/3)*(x**2+2)**5/2\n",
        "bai1 = Derivative(f, x).doit()\n",
        "bai1"
      ],
      "metadata": {
        "colab": {
          "base_uri": "https://localhost:8080/",
          "height": 41
        },
        "id": "Foid6rbm3taU",
        "outputId": "e3e18b27-f669-42ba-8619-6c97445ffe26"
      },
      "execution_count": 5,
      "outputs": [
        {
          "output_type": "execute_result",
          "data": {
            "text/plain": [
              "1.66666666666667*x*(x**2 + 2)**4"
            ],
            "text/latex": "$\\displaystyle 1.66666666666667 x \\left(x^{2} + 2\\right)^{4}$"
          },
          "metadata": {},
          "execution_count": 5
        }
      ]
    },
    {
      "cell_type": "code",
      "source": [
        "from sympy import Symbol, Integral, sqrt\n",
        "x = Symbol('x')\n",
        "f = sqrt(1+1.66*x*(x**2+2)**4)\n",
        "bai1b = Integral(f,(x,0,4))\n",
        "bai1b"
      ],
      "metadata": {
        "colab": {
          "base_uri": "https://localhost:8080/",
          "height": 80
        },
        "id": "SPJ0l7ie39x7",
        "outputId": "e85e5ed7-e530-4ff4-852a-23013cf1e6e8"
      },
      "execution_count": 7,
      "outputs": [
        {
          "output_type": "execute_result",
          "data": {
            "text/plain": [
              "Integral(1.28840987267251*sqrt(x*(x**2 + 2)**4 + 0.602409638554217), (x, 0, 4))"
            ],
            "text/latex": "$\\displaystyle \\int\\limits_{0}^{4} 1.28840987267251 \\sqrt{x \\left(x^{2} + 2\\right)^{4} + 0.602409638554217}\\, dx$"
          },
          "metadata": {},
          "execution_count": 7
        }
      ]
    }
  ]
}